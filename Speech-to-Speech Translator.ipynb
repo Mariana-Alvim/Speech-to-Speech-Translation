{
 "cells": [
  {
   "cell_type": "markdown",
   "metadata": {},
   "source": [
    "# Speech to Speech Translator\n",
    "---"
   ]
  },
  {
   "cell_type": "code",
   "execution_count": 1,
   "metadata": {},
   "outputs": [
    {
     "name": "stdout",
     "output_type": "stream",
     "text": [
      "Requirement already satisfied: SpeechRecognition in c:\\users\\maria\\anaconda3\\lib\\site-packages (3.10.0)\n",
      "Requirement already satisfied: requests>=2.26.0 in c:\\users\\maria\\anaconda3\\lib\\site-packages (from SpeechRecognition) (2.28.1)\n",
      "Requirement already satisfied: charset-normalizer<3,>=2 in c:\\users\\maria\\anaconda3\\lib\\site-packages (from requests>=2.26.0->SpeechRecognition) (2.0.4)\n",
      "Requirement already satisfied: urllib3<1.27,>=1.21.1 in c:\\users\\maria\\anaconda3\\lib\\site-packages (from requests>=2.26.0->SpeechRecognition) (1.26.14)\n",
      "Requirement already satisfied: idna<4,>=2.5 in c:\\users\\maria\\anaconda3\\lib\\site-packages (from requests>=2.26.0->SpeechRecognition) (2.10)\n",
      "Requirement already satisfied: certifi>=2017.4.17 in c:\\users\\maria\\anaconda3\\lib\\site-packages (from requests>=2.26.0->SpeechRecognition) (2022.12.7)\n"
     ]
    },
    {
     "name": "stderr",
     "output_type": "stream",
     "text": [
      "WARNING: Ignoring invalid distribution -rotobuf (c:\\users\\maria\\anaconda3\\lib\\site-packages)\n",
      "WARNING: Ignoring invalid distribution -rotobuf (c:\\users\\maria\\anaconda3\\lib\\site-packages)\n",
      "WARNING: Ignoring invalid distribution -rotobuf (c:\\users\\maria\\anaconda3\\lib\\site-packages)\n",
      "WARNING: Ignoring invalid distribution -rotobuf (c:\\users\\maria\\anaconda3\\lib\\site-packages)\n",
      "WARNING: Ignoring invalid distribution -rotobuf (c:\\users\\maria\\anaconda3\\lib\\site-packages)\n",
      "WARNING: Ignoring invalid distribution -rotobuf (c:\\users\\maria\\anaconda3\\lib\\site-packages)\n"
     ]
    },
    {
     "name": "stdout",
     "output_type": "stream",
     "text": [
      "Requirement already satisfied: googletrans==3.1.0a0 in c:\\users\\maria\\anaconda3\\lib\\site-packages (3.1.0a0)\n",
      "Requirement already satisfied: httpx==0.13.3 in c:\\users\\maria\\anaconda3\\lib\\site-packages (from googletrans==3.1.0a0) (0.13.3)\n",
      "Requirement already satisfied: idna==2.* in c:\\users\\maria\\anaconda3\\lib\\site-packages (from httpx==0.13.3->googletrans==3.1.0a0) (2.10)\n",
      "Requirement already satisfied: chardet==3.* in c:\\users\\maria\\anaconda3\\lib\\site-packages (from httpx==0.13.3->googletrans==3.1.0a0) (3.0.4)\n",
      "Requirement already satisfied: rfc3986<2,>=1.3 in c:\\users\\maria\\anaconda3\\lib\\site-packages (from httpx==0.13.3->googletrans==3.1.0a0) (1.5.0)\n",
      "Requirement already satisfied: httpcore==0.9.* in c:\\users\\maria\\anaconda3\\lib\\site-packages (from httpx==0.13.3->googletrans==3.1.0a0) (0.9.1)\n",
      "Requirement already satisfied: hstspreload in c:\\users\\maria\\anaconda3\\lib\\site-packages (from httpx==0.13.3->googletrans==3.1.0a0) (2022.9.1)\n",
      "Requirement already satisfied: certifi in c:\\users\\maria\\anaconda3\\lib\\site-packages (from httpx==0.13.3->googletrans==3.1.0a0) (2022.12.7)\n",
      "Requirement already satisfied: sniffio in c:\\users\\maria\\anaconda3\\lib\\site-packages (from httpx==0.13.3->googletrans==3.1.0a0) (1.2.0)\n",
      "Requirement already satisfied: h2==3.* in c:\\users\\maria\\anaconda3\\lib\\site-packages (from httpcore==0.9.*->httpx==0.13.3->googletrans==3.1.0a0) (3.2.0)\n",
      "Requirement already satisfied: h11<0.10,>=0.8 in c:\\users\\maria\\anaconda3\\lib\\site-packages (from httpcore==0.9.*->httpx==0.13.3->googletrans==3.1.0a0) (0.9.0)\n",
      "Requirement already satisfied: hpack<4,>=3.0 in c:\\users\\maria\\anaconda3\\lib\\site-packages (from h2==3.*->httpcore==0.9.*->httpx==0.13.3->googletrans==3.1.0a0) (3.0.0)\n",
      "Requirement already satisfied: hyperframe<6,>=5.2.0 in c:\\users\\maria\\anaconda3\\lib\\site-packages (from h2==3.*->httpcore==0.9.*->httpx==0.13.3->googletrans==3.1.0a0) (5.2.0)\n"
     ]
    },
    {
     "name": "stderr",
     "output_type": "stream",
     "text": [
      "WARNING: Ignoring invalid distribution -rotobuf (c:\\users\\maria\\anaconda3\\lib\\site-packages)\n",
      "WARNING: Ignoring invalid distribution -rotobuf (c:\\users\\maria\\anaconda3\\lib\\site-packages)\n",
      "WARNING: Ignoring invalid distribution -rotobuf (c:\\users\\maria\\anaconda3\\lib\\site-packages)\n",
      "WARNING: Ignoring invalid distribution -rotobuf (c:\\users\\maria\\anaconda3\\lib\\site-packages)\n",
      "WARNING: Ignoring invalid distribution -rotobuf (c:\\users\\maria\\anaconda3\\lib\\site-packages)\n",
      "WARNING: Ignoring invalid distribution -rotobuf (c:\\users\\maria\\anaconda3\\lib\\site-packages)\n"
     ]
    },
    {
     "name": "stdout",
     "output_type": "stream",
     "text": [
      "Requirement already satisfied: pyttsx3 in c:\\users\\maria\\anaconda3\\lib\\site-packages (2.90)\n",
      "Requirement already satisfied: pywin32 in c:\\users\\maria\\anaconda3\\lib\\site-packages (from pyttsx3) (305.1)\n",
      "Requirement already satisfied: pypiwin32 in c:\\users\\maria\\anaconda3\\lib\\site-packages (from pyttsx3) (223)\n",
      "Requirement already satisfied: comtypes in c:\\users\\maria\\anaconda3\\lib\\site-packages (from pyttsx3) (1.2.0)\n"
     ]
    },
    {
     "name": "stderr",
     "output_type": "stream",
     "text": [
      "WARNING: Ignoring invalid distribution -rotobuf (c:\\users\\maria\\anaconda3\\lib\\site-packages)\n",
      "WARNING: Ignoring invalid distribution -rotobuf (c:\\users\\maria\\anaconda3\\lib\\site-packages)\n",
      "WARNING: Ignoring invalid distribution -rotobuf (c:\\users\\maria\\anaconda3\\lib\\site-packages)\n",
      "WARNING: Ignoring invalid distribution -rotobuf (c:\\users\\maria\\anaconda3\\lib\\site-packages)\n",
      "WARNING: Ignoring invalid distribution -rotobuf (c:\\users\\maria\\anaconda3\\lib\\site-packages)\n",
      "WARNING: Ignoring invalid distribution -rotobuf (c:\\users\\maria\\anaconda3\\lib\\site-packages)\n"
     ]
    }
   ],
   "source": [
    "!pip install SpeechRecognition\n",
    "!pip install googletrans==3.1.0a0\n",
    "!pip install pyttsx3"
   ]
  },
  {
   "cell_type": "code",
   "execution_count": 2,
   "metadata": {},
   "outputs": [],
   "source": [
    "# Import necessary libraries\n",
    "import speech_recognition as sr  # Library for speech recognition\n",
    "from googletrans import Translator  # Library for language translation\n",
    "import pyttsx3  # Library for text-to-speech synthesis\n",
    "\n",
    "# Initialize instances of the Translator and Text-to-Speech Engine\n",
    "translator = Translator()\n",
    "engine = pyttsx3.init()"
   ]
  },
  {
   "cell_type": "code",
   "execution_count": 3,
   "metadata": {},
   "outputs": [
    {
     "name": "stdout",
     "output_type": "stream",
     "text": [
      "Escolha o idioma de entrada:                       Choose the input language:\n",
      "1. Português                                       1. Portuguese\n",
      "2. Inglês                                          2. English\n"
     ]
    }
   ],
   "source": [
    "# List of tuples, each containing a phrase in Portuguese and its corresponding translation in English\n",
    "# representing language choices for input\n",
    "input_language = [(\"Escolha o idioma de entrada:\", \"Choose the input language:\"),\n",
    "                  (\"1. Português\", \"1. Portuguese\"),\n",
    "                  (\"2. Inglês\", \"2. English\")]\n",
    "\n",
    "# Display language choices to the user\n",
    "# Iterates over the list and prints each pair, ensuring proper formatting.\n",
    "for line in input_language:\n",
    "    print(\"{:<50} {:}\".format(*line))\n",
    "\n",
    "# Prompt the user to choose a language for input\n",
    "choice = input()"
   ]
  },
  {
   "cell_type": "code",
   "execution_count": 4,
   "metadata": {},
   "outputs": [],
   "source": [
    "def setup(choice):\n",
    "    \"\"\"\n",
    "    Sets up the configuration based on the user's language choice.\n",
    "\n",
    "    Parameters:\n",
    "    choice (int): The user's language choice. 1 for Portuguese, 2 for English.\n",
    "\n",
    "    Returns:\n",
    "    tuple: A tuple containing language code, source language, destination language, and voice ID.\n",
    "           Returns None for an invalid choice.\n",
    "    \"\"\"\n",
    "    \n",
    "    # Registry keys for the Portuguese and English voices\n",
    "    id_pt = 'HKEY_LOCAL_MACHINE\\SOFTWARE\\Microsoft\\Speech\\Voices\\Tokens\\TTS_MS_PT-BR_MARIA_11.0'\n",
    "    id_en = \"HKEY_LOCAL_MACHINE\\SOFTWARE\\Microsoft\\Speech\\Voices\\Tokens\\TTS_MS_EN-US_ZIRA_11.0\"\n",
    "\n",
    "    # Configure for Portuguese\n",
    "    if int(choice) == 1:\n",
    "        language = 'pt-BR'\n",
    "        src = \"pt\"   # Source language\n",
    "        dest = \"en\"  # Destination language\n",
    "        voice_id = id_en  # English voice ID\n",
    "\n",
    "    # Configure for English\n",
    "    elif int(choice) == 2:\n",
    "        language = 'en-US'\n",
    "        src = \"en\"   # Source language\n",
    "        dest = \"pt\"  # Destination language\n",
    "        voice_id = id_pt  # Portuguese voice ID\n",
    "\n",
    "    # Invalid choice\n",
    "    else:\n",
    "        print(\"Invalid option. Choose 1 for Portuguese or 2 for English.\")\n",
    "        return None\n",
    "\n",
    "    return language, src, dest, voice_id"
   ]
  },
  {
   "cell_type": "code",
   "execution_count": 5,
   "metadata": {},
   "outputs": [
    {
     "name": "stdout",
     "output_type": "stream",
     "text": [
      "Collecting words...  \n",
      "\n",
      "Input: \n",
      " Olá como está você\n",
      "\n",
      " \n",
      "\n",
      "Playing the audio...  \n",
      "\n",
      "Output: \n",
      " Hello how are you\n"
     ]
    }
   ],
   "source": [
    "# Portuguese-English speech-to-speech translator\n",
    "\n",
    "# Set up the configuration based on the user's choice\n",
    "configuration = setup(choice)\n",
    "\n",
    "# If configuration is successful, unpack the language, source, destination, and voice ID\n",
    "if configuration:\n",
    "    language, src, dest, voice_id = configuration\n",
    "\n",
    "# Initialize voice variable\n",
    "voice = ''\n",
    "\n",
    "# Iterate through available voices and select the desired voice based on the voice ID\n",
    "for v in engine.getProperty('voices'):\n",
    "    if v.id == voice_id:\n",
    "        voice = v\n",
    "        break\n",
    "\n",
    "# Set the selected voice for text-to-speech synthesis\n",
    "engine.setProperty('voice', voice.id)\n",
    "\n",
    "# Initialize the speech recognizer\n",
    "r = sr.Recognizer()\n",
    "\n",
    "# Use the microphone as the source for speech input\n",
    "with sr.Microphone() as source:\n",
    "    print('Collecting words... ', \"\\n\")\n",
    "    audio = r.listen(source)\n",
    "\n",
    "    # Recognize speech using Google Speech Recognition with the specified language\n",
    "    text = r.recognize_google(audio, language=language)\n",
    "    print(\"Input:\", \"\\n\", text)\n",
    "    print(\"\\n \\n\")\n",
    "    print('Playing the audio... ', \"\\n\")\n",
    "\n",
    "# Try to translate and play the translated text\n",
    "try:\n",
    "    translation = translator.translate(text, src=src, dest=dest)\n",
    "    engine.say(translation.text)\n",
    "    print(\"Output:\", \"\\n\", translation.text)\n",
    "    engine.runAndWait()\n",
    "\n",
    "# Handle the case where the translation or text-to-speech synthesis fails\n",
    "except:\n",
    "    print(\"Sorry. I couldn't understand what you said. Could you please repeat?\")"
   ]
  }
 ],
 "metadata": {
  "kernelspec": {
   "display_name": "base",
   "language": "python",
   "name": "python3"
  },
  "language_info": {
   "codemirror_mode": {
    "name": "ipython",
    "version": 3
   },
   "file_extension": ".py",
   "mimetype": "text/x-python",
   "name": "python",
   "nbconvert_exporter": "python",
   "pygments_lexer": "ipython3",
   "version": "3.9.7"
  },
  "orig_nbformat": 4
 },
 "nbformat": 4,
 "nbformat_minor": 2
}
